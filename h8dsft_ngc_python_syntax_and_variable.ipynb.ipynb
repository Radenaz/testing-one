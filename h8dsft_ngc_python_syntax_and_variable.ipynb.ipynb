{
 "cells": [
  {
   "cell_type": "markdown",
   "metadata": {},
   "source": [
    "@Radenaz\n",
    "Niko A. Hakam\n",
    "FTDS - RMT - 038"
   ]
  },
  {
   "cell_type": "markdown",
   "metadata": {},
   "source": [
    "Ungraded Challange 01"
   ]
  },
  {
   "cell_type": "markdown",
   "metadata": {},
   "source": [
    "# 1. Task 01 :\n",
    "        - Find how many unique data are inside the given list below?"
   ]
  },
  {
   "cell_type": "code",
   "execution_count": 2,
   "metadata": {},
   "outputs": [
    {
     "name": "stdout",
     "output_type": "stream",
     "text": [
      "There are 12 uniq data in customer_id. They are : \n",
      "{'B904', 'A092', 'A901', 'B439', 'B341', 'A082', 'A083', 'A005', 'B219', 'B821', 'B818', 'A461'}\n"
     ]
    }
   ],
   "source": [
    "customer_id = ['B818', 'A461', 'A092', 'A082', 'B341', 'A005', 'A092', 'A461',\n",
    "               'B219', 'B904', 'A901', 'A083', 'B904', 'A092', 'B341', 'B821','B341', \n",
    "               'B821', 'B904', 'B818', 'A901', 'A083', 'B818', 'A082','B219', 'B219', \n",
    "               'A083', 'A901', 'A082', 'B341', 'B341', 'A083','A082', 'B219', 'B439', \n",
    "               'A461', 'A005', 'A901', 'B341', 'A082','A083', 'A461', 'A083', 'A901', \n",
    "               'A461', 'A083', 'A082', 'A083','B341', 'A901', 'A082', \n",
    "               'A461', 'B219', 'A083', 'B818', 'B821','A092', 'B341', 'A461', 'A092', 'A083', \n",
    "               'B821', 'A092']\n",
    "\n",
    "uniq = (set(customer_id))\n",
    "\n",
    "print(f\"There are {len(uniq)} uniq data in customer_id. They are : \\n{uniq}\")"
   ]
  },
  {
   "cell_type": "markdown",
   "metadata": {},
   "source": [
    "## Task 01 ===== Very cumbersome and long way : ========="
   ]
  },
  {
   "cell_type": "code",
   "execution_count": 1,
   "metadata": {},
   "outputs": [
    {
     "name": "stdout",
     "output_type": "stream",
     "text": [
      "['B818', 'A461', 'A092', 'A082', 'B341', 'A005', 'B219', 'B904', 'A901', 'A083', 'B821', 'B439']\n",
      "12\n"
     ]
    }
   ],
   "source": [
    "customer_id = ['B818', 'A461', 'A092', 'A082', 'B341', 'A005', 'A092', 'A461',\n",
    "               'B219', 'B904', 'A901', 'A083', 'B904', 'A092', 'B341', 'B821','B341', \n",
    "               'B821', 'B904', 'B818', 'A901', 'A083', 'B818', 'A082','B219', 'B219', \n",
    "               'A083', 'A901', 'A082', 'B341', 'B341', 'A083','A082', 'B219', 'B439', \n",
    "               'A461', 'A005', 'A901', 'B341', 'A082','A083', 'A461', 'A083', 'A901', \n",
    "               'A461', 'A083', 'A082', 'A083','B341', 'A901', 'A082', \n",
    "               'A461', 'B219', 'A083', 'B818', 'B821','A092', 'B341', 'A461', 'A092', 'A083', \n",
    "               'B821', 'A092']\n",
    "\n",
    "customer_id_cont = []\n",
    "\n",
    "for n in customer_id:\n",
    "    if n not in customer_id_cont:\n",
    "        customer_id_cont.append(n)\n",
    "        \n",
    "print(customer_id_cont)    \n",
    "print(len(customer_id_cont))"
   ]
  },
  {
   "cell_type": "markdown",
   "metadata": {},
   "source": [
    "# Task 02:\n",
    "    - Use indexing so you can get this output:\n",
    "        a.16\n",
    "        b.[36, 49, 64, 81]\n",
    "        c.[100, 81, 64, 49, 36, 25, 16, 9, 4, 1]\n"
   ]
  },
  {
   "cell_type": "code",
   "execution_count": 1,
   "metadata": {},
   "outputs": [
    {
     "name": "stdout",
     "output_type": "stream",
     "text": [
      "16\n",
      "[36, 49, 64, 81]\n",
      "[100, 81, 64, 49, 36, 25, 16, 9, 4, 1]\n"
     ]
    }
   ],
   "source": [
    "data = [1, 4, 9, 16, 25, 36, 49,  64, 81, 100]\n",
    "\n",
    "# for a.\n",
    "print(data[3])\n",
    "\n",
    "# for b\n",
    "sliced = data[5:-1]\n",
    "print(sliced)\n",
    "\n",
    "# for c.\n",
    "sorted_data = sorted(data, reverse=True)\n",
    "print(sorted_data)"
   ]
  },
  {
   "cell_type": "markdown",
   "metadata": {},
   "source": [
    "# Task 03:\n",
    "    3. What python command can be used to:\n",
    "        a.Get list of keys available in dictionary\n",
    "        b.Change 'Jawa Timur' value from 'Madiun'  to 'Surabaya'"
   ]
  },
  {
   "cell_type": "code",
   "execution_count": 10,
   "metadata": {},
   "outputs": [
    {
     "name": "stdout",
     "output_type": "stream",
     "text": [
      "['Nanggroe Aceh Darussalam', 'Sumatera Selatan', 'Kalimantan Barat', 'Jawa Timur', 'Sulawesi Selatan', 'Maluku']\n",
      "{'Nanggroe Aceh Darussalam': 'Aceh', 'Sumatera Selatan': 'Palembang', 'Kalimantan Barat': 'Pontianak', 'Jawa Timur': 'Surabaya', 'Sulawesi Selatan': 'Makassar', 'Maluku': 'Ambon'}\n",
      "\n",
      "Provinsi Jawa Timur adalah Surabaya\n"
     ]
    }
   ],
   "source": [
    "provinsi = {'Nanggroe Aceh Darussalam': 'Aceh',\n",
    "            'Sumatera Selatan': 'Palembang',\n",
    "            'Kalimantan Barat': 'Pontianak',\n",
    "            'Jawa Timur': 'Madiun',\n",
    "            'Sulawesi Selatan': 'Makassar',\n",
    "            'Maluku': 'Ambon'\n",
    "            }\n",
    "\n",
    "# this one gets keys in provinsi, turn it into a list, then print.\n",
    "print(list(provinsi.keys()))\n",
    "\n",
    "# this one switches the value of \"Jawa Timur\" into \"Surabaya\". Prior \"Madiun\"\n",
    "provinsi[\"Jawa Timur\"]= \"Surabaya\"\n",
    "print(provinsi)\n",
    "print(f\"\\nProvinsi Jawa Timur adalah {provinsi['Jawa Timur']}\")\n"
   ]
  }
 ],
 "metadata": {
  "kernelspec": {
   "display_name": "ftds",
   "language": "python",
   "name": "python3"
  },
  "language_info": {
   "codemirror_mode": {
    "name": "ipython",
    "version": 3
   },
   "file_extension": ".py",
   "mimetype": "text/x-python",
   "name": "python",
   "nbconvert_exporter": "python",
   "pygments_lexer": "ipython3",
   "version": "3.9.20"
  }
 },
 "nbformat": 4,
 "nbformat_minor": 2
}
